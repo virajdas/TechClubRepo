{
 "cells": [
  {
   "cell_type": "markdown",
   "id": "168193d2",
   "metadata": {},
   "source": [
    "# Mood Estimator Code - IA Tech Club\n",
    "\n",
    "The following code makes use of the `https://huggingface.co/j-hartmann/emotion-english-distilroberta-base` model from HuggingFace to allow the amazing Evil Viraj to predict how members of the IA Tech Club feel about their recently ended fall break."
   ]
  },
  {
   "cell_type": "markdown",
   "id": "548f6979",
   "metadata": {},
   "source": [
    "The program requires two external libraries that are not installed on Codespaces by default, and the below code installs them."
   ]
  },
  {
   "cell_type": "code",
   "execution_count": 2,
   "id": "cfdaba9b",
   "metadata": {},
   "outputs": [
    {
     "name": "stdout",
     "output_type": "stream",
     "text": [
      "Requirement already satisfied: transformers in /usr/local/python/3.12.1/lib/python3.12/site-packages (4.57.1)\n",
      "Requirement already satisfied: termcolor in /usr/local/python/3.12.1/lib/python3.12/site-packages (3.1.0)\n",
      "Requirement already satisfied: filelock in /home/codespace/.local/lib/python3.12/site-packages (from transformers) (3.13.1)\n",
      "Requirement already satisfied: huggingface-hub<1.0,>=0.34.0 in /usr/local/python/3.12.1/lib/python3.12/site-packages (from transformers) (0.35.3)\n",
      "Requirement already satisfied: numpy>=1.17 in /home/codespace/.local/lib/python3.12/site-packages (from transformers) (2.3.1)\n",
      "Requirement already satisfied: packaging>=20.0 in /home/codespace/.local/lib/python3.12/site-packages (from transformers) (25.0)\n",
      "Requirement already satisfied: pyyaml>=5.1 in /home/codespace/.local/lib/python3.12/site-packages (from transformers) (6.0.2)\n",
      "Requirement already satisfied: regex!=2019.12.17 in /usr/local/python/3.12.1/lib/python3.12/site-packages (from transformers) (2025.10.22)\n",
      "Requirement already satisfied: requests in /home/codespace/.local/lib/python3.12/site-packages (from transformers) (2.32.4)\n",
      "Requirement already satisfied: tokenizers<=0.23.0,>=0.22.0 in /usr/local/python/3.12.1/lib/python3.12/site-packages (from transformers) (0.22.1)\n",
      "Requirement already satisfied: safetensors>=0.4.3 in /usr/local/python/3.12.1/lib/python3.12/site-packages (from transformers) (0.6.2)\n",
      "Requirement already satisfied: tqdm>=4.27 in /usr/local/python/3.12.1/lib/python3.12/site-packages (from transformers) (4.67.1)\n",
      "Requirement already satisfied: fsspec>=2023.5.0 in /home/codespace/.local/lib/python3.12/site-packages (from huggingface-hub<1.0,>=0.34.0->transformers) (2024.6.1)\n",
      "Requirement already satisfied: typing-extensions>=3.7.4.3 in /home/codespace/.local/lib/python3.12/site-packages (from huggingface-hub<1.0,>=0.34.0->transformers) (4.14.1)\n",
      "Requirement already satisfied: hf-xet<2.0.0,>=1.1.3 in /usr/local/python/3.12.1/lib/python3.12/site-packages (from huggingface-hub<1.0,>=0.34.0->transformers) (1.1.10)\n",
      "Requirement already satisfied: charset_normalizer<4,>=2 in /home/codespace/.local/lib/python3.12/site-packages (from requests->transformers) (3.4.2)\n",
      "Requirement already satisfied: idna<4,>=2.5 in /home/codespace/.local/lib/python3.12/site-packages (from requests->transformers) (3.10)\n",
      "Requirement already satisfied: urllib3<3,>=1.21.1 in /home/codespace/.local/lib/python3.12/site-packages (from requests->transformers) (2.5.0)\n",
      "Requirement already satisfied: certifi>=2017.4.17 in /home/codespace/.local/lib/python3.12/site-packages (from requests->transformers) (2025.7.9)\n",
      "\n",
      "\u001b[1m[\u001b[0m\u001b[34;49mnotice\u001b[0m\u001b[1;39;49m]\u001b[0m\u001b[39;49m A new release of pip is available: \u001b[0m\u001b[31;49m25.1.1\u001b[0m\u001b[39;49m -> \u001b[0m\u001b[32;49m25.2\u001b[0m\n",
      "\u001b[1m[\u001b[0m\u001b[34;49mnotice\u001b[0m\u001b[1;39;49m]\u001b[0m\u001b[39;49m To update, run: \u001b[0m\u001b[32;49mpython3 -m pip install --upgrade pip\u001b[0m\n"
     ]
    }
   ],
   "source": [
    "!pip install transformers termcolor"
   ]
  },
  {
   "cell_type": "markdown",
   "id": "de8654a6",
   "metadata": {},
   "source": [
    "Import the two installed libraries into the file created by the ultimate Evil Viraj for his master plan!"
   ]
  },
  {
   "cell_type": "code",
   "execution_count": 3,
   "id": "8fea5e97",
   "metadata": {},
   "outputs": [
    {
     "name": "stderr",
     "output_type": "stream",
     "text": [
      "/usr/local/python/3.12.1/lib/python3.12/site-packages/tqdm/auto.py:21: TqdmWarning: IProgress not found. Please update jupyter and ipywidgets. See https://ipywidgets.readthedocs.io/en/stable/user_install.html\n",
      "  from .autonotebook import tqdm as notebook_tqdm\n"
     ]
    }
   ],
   "source": [
    "from transformers import pipeline\n",
    "from termcolor import colored"
   ]
  },
  {
   "cell_type": "markdown",
   "id": "91567da9",
   "metadata": {},
   "source": [
    "Load in the model using the transformers library."
   ]
  },
  {
   "cell_type": "code",
   "execution_count": 4,
   "id": "c20d84fa",
   "metadata": {},
   "outputs": [
    {
     "name": "stderr",
     "output_type": "stream",
     "text": [
      "Device set to use cpu\n"
     ]
    }
   ],
   "source": [
    "classifier = pipeline(\"text-classification\", model=\"j-hartmann/emotion-english-distilroberta-base\", top_k=None)"
   ]
  },
  {
   "cell_type": "markdown",
   "id": "466f9e02",
   "metadata": {},
   "source": [
    "The below code is the main program that runs when a prediction needs to occur...and obvious it is always right because Evil Viraj is always right. And if it is ever wrong, know that Evil Viraj is currently away due to...reasons."
   ]
  },
  {
   "cell_type": "code",
   "execution_count": 13,
   "id": "fd4e3303",
   "metadata": {},
   "outputs": [
    {
     "name": "stdout",
     "output_type": "stream",
     "text": [
      "Listen people! I may be THE Evil Viraj, but even I care about your feelings! So please puny minions, share your mood with me!\n",
      "Type a sentence to see what mood the AI detects.\n",
      "\u001b[34m\n",
      "Entered sentence: I am so frustrated!\u001b[0m\n",
      "\n",
      "Evil Viraj thinks you're feeling:\n",
      "  - anger: 96%\n",
      "  - sadness: 1%\n",
      "  - surprise: 0%\n",
      "\n",
      "Ah ha! So you feel anger!\n"
     ]
    }
   ],
   "source": [
    "print(\"Listen people! I may be THE Evil Viraj, but even I care about your feelings! So please puny minions, share your mood with me!\")\n",
    "print(\"Type a sentence to see what mood the AI detects.\")\n",
    "\n",
    "text = input(\"So tell me...how was your break (so that I may DEVOUR!): \")\n",
    "print(colored(f\"\\nEntered sentence: {text}\", \"blue\"))\n",
    "\n",
    "if text.lower() == \"let me out of your basement\":\n",
    "    print(\"Never!\")\n",
    "else:\n",
    "    results = classifier(text)[0]\n",
    "\n",
    "    sorted_results = sorted(results, key=lambda x: x['score'], reverse=True)\n",
    "    top_mood = sorted_results[0]['label']\n",
    "\n",
    "    print(\"\\nEvil Viraj thinks you're feeling:\")\n",
    "    for mood in sorted_results[:3]:\n",
    "        print(f\"  - {mood['label']}: {int(round(mood['score']*100, 2))}%\")\n",
    "    print(f\"\\nAh ha! So you feel {top_mood}!\")"
   ]
  }
 ],
 "metadata": {
  "kernelspec": {
   "display_name": "Python 3",
   "language": "python",
   "name": "python3"
  },
  "language_info": {
   "codemirror_mode": {
    "name": "ipython",
    "version": 3
   },
   "file_extension": ".py",
   "mimetype": "text/x-python",
   "name": "python",
   "nbconvert_exporter": "python",
   "pygments_lexer": "ipython3",
   "version": "3.12.1"
  }
 },
 "nbformat": 4,
 "nbformat_minor": 5
}
